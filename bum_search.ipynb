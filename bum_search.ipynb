{
  "nbformat": 4,
  "nbformat_minor": 0,
  "metadata": {
    "colab": {
      "provenance": []
    },
    "kernelspec": {
      "name": "python3",
      "display_name": "Python 3"
    },
    "language_info": {
      "name": "python"
    }
  },
  "cells": [
    {
      "cell_type": "code",
      "execution_count": 1,
      "metadata": {
        "colab": {
          "base_uri": "https://localhost:8080/"
        },
        "id": "8UvMs2eOGmtz",
        "outputId": "48385b58-f479-40f9-fa17-4dccc975efad"
      },
      "outputs": [
        {
          "output_type": "stream",
          "name": "stdout",
          "text": [
            "Collecting pysam\n",
            "  Downloading pysam-0.22.1-cp310-cp310-manylinux_2_28_x86_64.whl.metadata (1.5 kB)\n",
            "Downloading pysam-0.22.1-cp310-cp310-manylinux_2_28_x86_64.whl (22.0 MB)\n",
            "\u001b[2K   \u001b[90m━━━━━━━━━━━━━━━━━━━━━━━━━━━━━━━━━━━━━━━━\u001b[0m \u001b[32m22.0/22.0 MB\u001b[0m \u001b[31m17.8 MB/s\u001b[0m eta \u001b[36m0:00:00\u001b[0m\n",
            "\u001b[?25hInstalling collected packages: pysam\n",
            "Successfully installed pysam-0.22.1\n"
          ]
        }
      ],
      "source": [
        "!pip install pysam"
      ]
    },
    {
      "cell_type": "code",
      "source": [
        "from google.colab import drive\n",
        "drive.mount('/content/drive/')"
      ],
      "metadata": {
        "colab": {
          "base_uri": "https://localhost:8080/"
        },
        "id": "ZVXHGb3wOpT5",
        "outputId": "5131d72d-c946-4a79-9154-089861ce7b03"
      },
      "execution_count": 5,
      "outputs": [
        {
          "output_type": "stream",
          "name": "stdout",
          "text": [
            "Mounted at /content/drive/\n"
          ]
        }
      ]
    },
    {
      "cell_type": "code",
      "source": [
        "import pysam\n",
        "\n",
        "bam_file = pysam.AlignmentFile(\"merged-normal.bam\", \"rb\")\n",
        "first_read = next(bam_file.fetch())\n",
        "\n",
        "print(\"Query name:\", first_read.query_name)\n",
        "print(\"Flag:\", first_read.flag)\n",
        "print(\"Reference ID:\", first_read.reference_id)\n",
        "print(\"Reference start:\", first_read.reference_start)\n",
        "print(\"Mapping quality:\", first_read.mapping_quality)\n",
        "print(\"Cigar string:\", first_read.cigarstring)\n",
        "print(\"Sequence:\", first_read.query_sequence)\n",
        "print(\"Qualities:\", first_read.query_qualities)\n",
        "print(\"\\nFlag details:\")\n",
        "print(\"Read is paired:\", first_read.is_paired)\n",
        "print(\"Read is mapped in proper pair:\", first_read.is_proper_pair)\n",
        "print(\"Read is unmapped:\", first_read.is_unmapped)\n",
        "print(\"Mate is unmapped:\", first_read.mate_is_unmapped)\n",
        "print(\"Read is reverse strand:\", first_read.is_reverse)\n",
        "print(\"Mate is reverse strand:\", first_read.mate_is_reverse)\n",
        "\n",
        "num_unmapped = 0\n",
        "num_reads = 0\n",
        "num_zero_quality = 0\n",
        "quality_sum = 0\n",
        "\n",
        "if first_read.is_unmapped:\n",
        "  num_unmapped += 1\n",
        "\n",
        "if first_read.mapping_quality == 0:\n",
        "  num_zero_quality += 1\n",
        "\n",
        "quality_sum += first_read.mapping_quality\n",
        "\n",
        "\n",
        "for read in bam_file.fetch():\n",
        "\n",
        "  quality_sum += read.mapping_quality\n",
        "  num_reads += 1\n",
        "  if read.is_unmapped:\n",
        "      num_unmapped += 1\n",
        "\n",
        "  if read.mapping_quality == 0:\n",
        "      num_zero_quality += 1\n",
        "\n",
        "\n",
        "print(f\"Number of unmapped reads: {num_unmapped}\")\n",
        "print(f\"Total number of reads: {num_reads}\")\n",
        "print(f\"Number of reads with quality 0: {num_zero_quality}\")\n",
        "print(f\"Average mapping quality for all the reads: {quality_sum / num_reads}\")\n",
        "print(f\"Average mapping quality if reads with 0 map quality are filtered out: {quality_sum / (num_reads - num_zero_quality)}\")\n",
        "\n",
        "# Close the file\n",
        "bam_file.close()"
      ],
      "metadata": {
        "colab": {
          "base_uri": "https://localhost:8080/"
        },
        "id": "f9eNV0mZJ5vx",
        "outputId": "b8434ef6-bb8a-4ffe-e834-1508f19105ca"
      },
      "execution_count": 20,
      "outputs": [
        {
          "output_type": "stream",
          "name": "stdout",
          "text": [
            "Query name: D0MBKACXX120224:2:2206:17237:35667\n",
            "Flag: 99\n",
            "Reference ID: 20\n",
            "Reference start: 9483247\n",
            "Mapping quality: 27\n",
            "Cigar string: 76M\n",
            "Sequence: CTTTTCAAACAGTATCTATGCCTGCCAAATGTGAACATATAAAAAAAAACCAGAATGTGCCATTCTGATTTAAACT\n",
            "Qualities: array('B', [32, 33, 29, 29, 33, 37, 32, 37, 35, 40, 35, 41, 30, 31, 31, 41, 35, 30, 31, 39, 39, 38, 35, 41, 39, 38, 34, 36, 36, 31, 41, 31, 41, 33, 36, 40, 35, 31, 32, 31, 32, 36, 37, 36, 36, 36, 36, 36, 37, 40, 38, 35, 41, 34, 37, 31, 42, 31, 40, 38, 37, 33, 31, 31, 38, 36, 40, 34, 31, 34, 31, 30, 33, 30, 32, 33])\n",
            "\n",
            "Flag details:\n",
            "Read is paired: True\n",
            "Read is mapped in proper pair: True\n",
            "Read is unmapped: False\n",
            "Mate is unmapped: False\n",
            "Read is reverse strand: False\n",
            "Mate is reverse strand: True\n",
            "Number of unmapped reads: 12290\n",
            "Total number of reads: 1717401\n",
            "Number of reads with quality 0: 79442\n",
            "Average mapping quality for all the reads: 55.85417791185635\n",
            "Average mapping quality if reads with 0 map quality are filtered out: 58.5631392482962\n"
          ]
        }
      ]
    }
  ]
}